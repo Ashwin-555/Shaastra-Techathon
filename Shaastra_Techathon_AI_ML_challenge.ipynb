{
  "nbformat": 4,
  "nbformat_minor": 0,
  "metadata": {
    "colab": {
      "provenance": []
    },
    "kernelspec": {
      "name": "python3",
      "display_name": "Python 3"
    },
    "language_info": {
      "name": "python"
    }
  },
  "cells": [
    {
      "cell_type": "code",
      "execution_count": 2,
      "metadata": {
        "colab": {
          "base_uri": "https://localhost:8080/"
        },
        "id": "n71bkauoWylq",
        "outputId": "e96a6e7c-8d4b-44ed-f335-8e733c295112"
      },
      "outputs": [
        {
          "output_type": "stream",
          "name": "stderr",
          "text": [
            "<ipython-input-2-8712d34a6b26>:24: UserWarning: Parsing dates in %d-%m-%Y format when dayfirst=False (the default) was specified. Pass `dayfirst=True` or specify a format to silence this warning.\n",
            "  test_data['Date'] = pd.to_datetime(test_data['Date'])\n"
          ]
        },
        {
          "output_type": "stream",
          "name": "stdout",
          "text": [
            "Mean Absolute Percentage Error (MAPE): 8763579892301.567\n"
          ]
        }
      ],
      "source": [
        "# Import necessary libraries\n",
        "import pandas as pd\n",
        "import numpy as np\n",
        "from sklearn.model_selection import train_test_split, RandomizedSearchCV\n",
        "from sklearn.ensemble import RandomForestRegressor\n",
        "from sklearn.metrics import mean_absolute_error\n",
        "from sklearn.preprocessing import OneHotEncoder\n",
        "from sklearn.pipeline import Pipeline\n",
        "from sklearn.compose import ColumnTransformer\n",
        "\n",
        "# Load the dataset\n",
        "# Adjust file paths as necessary for your environment\n",
        "train_data = pd.read_csv(\"/content/train_data_covid (1).csv\")\n",
        "test_data = pd.read_csv(\"/content/test_data_covid.csv\")\n",
        "\n",
        "# For Google Colab: Uncomment and use the following code to upload files manually\n",
        "# from google.colab import files\n",
        "# uploaded = files.upload()\n",
        "# train_data = pd.read_csv(\"train_data_covid.csv\")\n",
        "# test_data = pd.read_csv(\"test_data_covid.csv\")\n",
        "\n",
        "# Convert 'Date' column to datetime format\n",
        "train_data['Date'] = pd.to_datetime(train_data['Date'])\n",
        "test_data['Date'] = pd.to_datetime(test_data['Date'])\n",
        "\n",
        "# Extract features from the 'Date' column\n",
        "train_data['Year'] = train_data['Date'].dt.year\n",
        "train_data['Month'] = train_data['Date'].dt.month\n",
        "train_data['Day'] = train_data['Date'].dt.day\n",
        "\n",
        "test_data['Year'] = test_data['Date'].dt.year\n",
        "test_data['Month'] = test_data['Date'].dt.month\n",
        "test_data['Day'] = test_data['Date'].dt.day\n",
        "\n",
        "# Drop the original 'Date' column\n",
        "train_data.drop(columns=['Date'], inplace=True)\n",
        "test_data.drop(columns=['Date'], inplace=True)\n",
        "\n",
        "# Define categorical columns to be one-hot encoded\n",
        "categorical_cols = ['State/UnionTerritory', 'Time', 'ConfirmedIndianNational', 'ConfirmedForeignNational']\n",
        "\n",
        "# Define preprocessing pipeline for categorical features\n",
        "categorical_transformer = Pipeline(steps=[\n",
        "    ('onehot', OneHotEncoder(handle_unknown='ignore'))  # Handle unknown categories by ignoring them\n",
        "])\n",
        "\n",
        "# Combine preprocessing steps for all features using ColumnTransformer\n",
        "preprocessor = ColumnTransformer(transformers=[\n",
        "    ('cat', categorical_transformer, categorical_cols)\n",
        "])\n",
        "\n",
        "# Split the dataset into features (X) and target variable (y)\n",
        "X = train_data.drop(columns=[\"Deaths\"])\n",
        "y = train_data[\"Deaths\"]\n",
        "\n",
        "# Split the dataset into training and validation sets\n",
        "X_train, X_valid, y_train, y_valid = train_test_split(X, y, test_size=0.2, random_state=42)\n",
        "\n",
        "# Define the RandomForestRegressor model\n",
        "model = RandomForestRegressor(random_state=42)\n",
        "\n",
        "# Define a pipeline that first preprocesses the data and then applies the model\n",
        "pipeline = Pipeline(steps=[\n",
        "    ('preprocessor', preprocessor),  # Apply the preprocessor to the data\n",
        "    ('model', model)                 # Train the model\n",
        "])\n",
        "\n",
        "# Define hyperparameters for random search\n",
        "param_dist = {\n",
        "    'model__n_estimators': [50, 100, 200],  # Number of trees in the forest\n",
        "    'model__max_depth': [None, 10, 20],     # Maximum depth of the tree\n",
        "    'model__min_samples_split': [2, 5, 10], # Minimum number of samples required to split an internal node\n",
        "    'model__min_samples_leaf': [1, 2, 4]    # Minimum number of samples required to be at a leaf node\n",
        "}\n",
        "\n",
        "# Perform RandomizedSearchCV to find the best hyperparameters\n",
        "random_search = RandomizedSearchCV(pipeline, param_dist, n_iter=10, cv=5, scoring='neg_mean_absolute_error', random_state=42)\n",
        "random_search.fit(X_train, y_train)\n",
        "\n",
        "# Get the best model from the random search\n",
        "best_model = random_search.best_estimator_\n",
        "\n",
        "# Evaluate the model on the validation set\n",
        "predictions = best_model.predict(X_valid)\n",
        "mape = np.mean(np.abs((y_valid - predictions) / (y_valid + 1e-10))) * 100  # Calculate MAPE, adding a small epsilon to avoid division by zero\n",
        "print(\"Mean Absolute Percentage Error (MAPE):\", mape)\n",
        "\n",
        "# Make predictions on the test dataset\n",
        "test_predictions = best_model.predict(test_data)\n",
        "\n",
        "# Prepare the submission file\n",
        "submission = pd.DataFrame({\"Sno\": test_data[\"Sno\"], \"Deaths\": test_predictions})\n",
        "submission.to_csv(\"submission.csv\", index=False)\n",
        "\n",
        "# For Google Colab: Download the file to your local machine\n",
        "# from google.colab import files\n",
        "# files.download(\"submission.csv\")\n"
      ]
    },
    {
      "cell_type": "code",
      "source": [],
      "metadata": {
        "id": "0cfA8fz_W7kK"
      },
      "execution_count": null,
      "outputs": []
    }
  ]
}